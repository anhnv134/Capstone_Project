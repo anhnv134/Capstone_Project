{
  "nbformat": 4,
  "nbformat_minor": 0,
  "metadata": {
    "colab": {
      "provenance": []
    },
    "kernelspec": {
      "name": "python3",
      "display_name": "Python 3"
    },
    "language_info": {
      "name": "python"
    }
  },
  "cells": [
    {
      "cell_type": "code",
      "execution_count": null,
      "metadata": {
        "id": "H_0WBTCU-TbE"
      },
      "outputs": [],
      "source": []
    },
    {
      "cell_type": "markdown",
      "source": [
        "\n",
        "##**Log File Analysis for Positive 'net_pl' Entries**\n",
        "\n",
        "\n",
        "\n",
        "\n",
        "*   This python script is designed to parse a log file and extract entries where the 'net_pl' value is postivie.\n",
        "\n",
        "*   It utilizes regular expressions to search through the log file for lines containing the 'net_pl' value and prints the relevant entries for analysis.\n",
        "*   The script also extracts the tickers associated with these postive entries.\n",
        "\n"
      ],
      "metadata": {
        "id": "u5km4KJVrLyp"
      }
    },
    {
      "cell_type": "code",
      "source": [
        "\n",
        "import re\n",
        "\n",
        "# path to the log file\n",
        "file_path = r\"/content/Algo7_version11_logfile_1.txt\"\n",
        "\n",
        "try:\n",
        "    # Load the log data\n",
        "    with open(file_path, \"r\") as file:\n",
        "        log_data = file.readlines()\n",
        "\n",
        "    # Regex pattern to match lines with positive 'net_pl'\n",
        "    pattern = r\": \\{'net_pl': ([\\d\\.]+),.*\"\n",
        "\n",
        "    # Extract lines with positive 'net_pl'\n",
        "    positive_entries = []\n",
        "    for line in log_data:\n",
        "        match = re.search(pattern, line)\n",
        "        if match:\n",
        "            net_pl = float(match.group(1))  # Extract net_pl as a float\n",
        "            if net_pl > 0:  # Check if net_pl is positive\n",
        "                positive_entries.append(line.strip())\n",
        "\n",
        "    # print results\n",
        "    print(\"Entries with positive 'net_pl':\")\n",
        "    for entry in positive_entries:\n",
        "        print(entry)\n",
        "\n",
        "except FileNotFoundError:\n",
        "    print(f\"File not found at: {file_path}. Please verify the path.\")\n",
        "\n"
      ],
      "metadata": {
        "colab": {
          "base_uri": "https://localhost:8080/"
        },
        "id": "gtOymOdbopu9",
        "outputId": "58794184-aa50-4f33-f69f-2460f014e5f4"
      },
      "execution_count": null,
      "outputs": [
        {
          "output_type": "stream",
          "name": "stdout",
          "text": [
            "Entries with positive 'net_pl':\n",
            "[2025-01-28 12:52:12] KRBL: {'net_pl': 18.4, 'total_trades': 6, 'win_rate': 50.0, 'average_pl': 3.07, 'max_drawdown': 5.89, 'sharpe': 0.935}\n",
            "[2025-01-28 12:54:36] M&M: {'net_pl': 6.63, 'total_trades': 7, 'win_rate': 71.43, 'average_pl': 0.95, 'max_drawdown': 0.24, 'sharpe': 3.029}\n",
            "[2025-01-28 12:54:38] LXCHEM: {'net_pl': 112.18, 'total_trades': 13, 'win_rate': 69.23, 'average_pl': 8.63, 'max_drawdown': 7.0, 'sharpe': 2.74}\n",
            "[2025-01-28 13:02:42] OIL: {'net_pl': 20.5, 'total_trades': 12, 'win_rate': 58.33, 'average_pl': 1.71, 'max_drawdown': 5.86, 'sharpe': 1.487}\n",
            "[2025-01-28 13:04:18] PARAGMILK: {'net_pl': 30.74, 'total_trades': 8, 'win_rate': 75.0, 'average_pl': 3.84, 'max_drawdown': 1.65, 'sharpe': 3.006}\n",
            "[2025-01-28 13:07:54] RALLIS: {'net_pl': 11.79, 'total_trades': 1, 'win_rate': 100.0, 'average_pl': 11.79, 'max_drawdown': 0, 'sharpe': nan}\n",
            "[2025-01-28 13:13:16] SHANTIGEAR: {'net_pl': 31.64, 'total_trades': 1, 'win_rate': 100.0, 'average_pl': 31.64, 'max_drawdown': 0, 'sharpe': nan}\n",
            "[2025-01-28 13:15:40] SPARC: {'net_pl': 23.34, 'total_trades': 5, 'win_rate': 40.0, 'average_pl': 4.67, 'max_drawdown': 5.82, 'sharpe': 0.79}\n",
            "[2025-01-28 13:16:48] STLTECH: {'net_pl': 12.44, 'total_trades': 12, 'win_rate': 50.0, 'average_pl': 1.04, 'max_drawdown': 5.67, 'sharpe': 1.501}\n",
            "[2025-01-28 13:21:04] TIRUMALCHM: {'net_pl': 5.16, 'total_trades': 6, 'win_rate': 50.0, 'average_pl': 0.86, 'max_drawdown': 8.01, 'sharpe': 0.403}\n",
            "[2025-01-28 13:28:21] ADANIPOWER: {'net_pl': 22.29, 'total_trades': 6, 'win_rate': 50.0, 'average_pl': 3.72, 'max_drawdown': 2.64, 'sharpe': 1.459}\n",
            "[2025-01-28 13:31:45] ARVIND: {'net_pl': 23.48, 'total_trades': 2, 'win_rate': 100.0, 'average_pl': 11.74, 'max_drawdown': 0, 'sharpe': 1.693}\n",
            "[2025-01-28 13:31:52] APTECHT: {'net_pl': 0.96, 'total_trades': 1, 'win_rate': 100.0, 'average_pl': 0.96, 'max_drawdown': 0, 'sharpe': nan}\n",
            "[2025-01-28 13:34:20] BALRAMCHIN: {'net_pl': 5.44, 'total_trades': 13, 'win_rate': 61.54, 'average_pl': 0.42, 'max_drawdown': 5.7, 'sharpe': 0.589}\n",
            "[2025-01-28 13:40:55] CYBERTECH: {'net_pl': 35.67, 'total_trades': 6, 'win_rate': 50.0, 'average_pl': 5.95, 'max_drawdown': 6.25, 'sharpe': 1.464}\n",
            "[2025-01-28 13:41:39] DCAL: {'net_pl': 44.11, 'total_trades': 27, 'win_rate': 44.44, 'average_pl': 1.63, 'max_drawdown': 42.1, 'sharpe': 0.86}\n",
            "[2025-01-28 13:42:06] DHAMPURSUG: {'net_pl': 7.04, 'total_trades': 9, 'win_rate': 44.44, 'average_pl': 0.78, 'max_drawdown': 9.79, 'sharpe': 0.534}\n",
            "[2025-01-28 13:45:22] FCL: {'net_pl': 21.82, 'total_trades': 5, 'win_rate': 80.0, 'average_pl': 4.36, 'max_drawdown': 0, 'sharpe': 2.416}\n",
            "[2025-01-28 13:46:15] GAEL: {'net_pl': 8.65, 'total_trades': 3, 'win_rate': 66.67, 'average_pl': 2.88, 'max_drawdown': 0, 'sharpe': 1.195}\n",
            "[2025-01-28 13:48:22] GOKEX: {'net_pl': 67.16, 'total_trades': 14, 'win_rate': 71.43, 'average_pl': 4.8, 'max_drawdown': 4.58, 'sharpe': 2.57}\n",
            "[2025-01-28 13:50:03] GUJGASLTD: {'net_pl': 54.19, 'total_trades': 8, 'win_rate': 75.0, 'average_pl': 6.77, 'max_drawdown': 2.8, 'sharpe': 3.579}\n",
            "[2025-01-28 13:50:07] GUJALKALI: {'net_pl': 26.14, 'total_trades': 1, 'win_rate': 100.0, 'average_pl': 26.14, 'max_drawdown': 0, 'sharpe': nan}\n",
            "[2025-01-28 13:50:15] HAPPSTMNDS: {'net_pl': 5.25, 'total_trades': 1, 'win_rate': 100.0, 'average_pl': 5.25, 'max_drawdown': 0, 'sharpe': nan}\n",
            "[2025-01-28 13:56:19] INOXLEISUR: {'net_pl': 5.71, 'total_trades': 3, 'win_rate': 66.67, 'average_pl': 1.9, 'max_drawdown': 3.14, 'sharpe': 0.571}\n",
            "[2025-01-28 13:57:03] ISEC: {'net_pl': 6.37, 'total_trades': 2, 'win_rate': 100.0, 'average_pl': 3.19, 'max_drawdown': 0, 'sharpe': 21.558}\n",
            "[2025-01-28 14:00:17] KCP: {'net_pl': 15.38, 'total_trades': 4, 'win_rate': 75.0, 'average_pl': 3.85, 'max_drawdown': 0, 'sharpe': 1.44}\n",
            "[2025-01-28 14:02:08] ZOMATO: {'net_pl': 0.02, 'total_trades': 9, 'win_rate': 55.56, 'average_pl': 0.0, 'max_drawdown': 13.31, 'sharpe': 0.001}\n",
            "[2025-01-28 14:03:29] AIRTEL-RE: {'net_pl': 7.26, 'total_trades': 11, 'win_rate': 54.55, 'average_pl': 0.66, 'max_drawdown': 3.88, 'sharpe': 1.131}\n"
          ]
        }
      ]
    },
    {
      "cell_type": "code",
      "source": [
        "\n",
        "import re\n",
        "\n",
        "# path to the log file\n",
        "file_path = r\"/content/Algo7_version11_logfile_1.txt\"\n",
        "\n",
        "try:\n",
        "    # load the log data\n",
        "    with open(file_path, \"r\") as file:\n",
        "        log_data = file.readlines()\n",
        "\n",
        "    # Regex pattern to match tickers with positive 'net_pl'\n",
        "    pattern = r\"^\\[.*?\\] (\\w+): \\{'net_pl': ([\\d\\.]+),\"\n",
        "\n",
        "    # extract ticker names with positive 'net_pl'\n",
        "    positive_ticker_names = []\n",
        "    for line in log_data:\n",
        "        match = re.search(pattern, line)\n",
        "        if match:\n",
        "            ticker, net_pl = match.groups()\n",
        "            if float(net_pl) > 0:  # Check if 'net_pl' is positive\n",
        "                positive_ticker_names.append(ticker)\n",
        "\n",
        "    # print the list of ticker names\n",
        "    print(\"Tickers with positive 'net_pl':\")\n",
        "    print(positive_ticker_names)\n",
        "\n",
        "except FileNotFoundError:\n",
        "    print(f\"File not found at: {file_path}. Please verify the path.\")\n",
        "\n"
      ],
      "metadata": {
        "colab": {
          "base_uri": "https://localhost:8080/"
        },
        "id": "6knt5SOW-WcL",
        "outputId": "8e59bf35-d435-41d1-e917-68b1fb9b5707"
      },
      "execution_count": null,
      "outputs": [
        {
          "output_type": "stream",
          "name": "stdout",
          "text": [
            "Tickers with positive 'net_pl':\n",
            "['KRBL', 'LXCHEM', 'OIL', 'PARAGMILK', 'RALLIS', 'SHANTIGEAR', 'SPARC', 'STLTECH', 'TIRUMALCHM', 'ADANIPOWER', 'ARVIND', 'APTECHT', 'BALRAMCHIN', 'CYBERTECH', 'DCAL', 'DHAMPURSUG', 'FCL', 'GAEL', 'GOKEX', 'GUJGASLTD', 'GUJALKALI', 'HAPPSTMNDS', 'INOXLEISUR', 'ISEC', 'KCP', 'ZOMATO']\n"
          ]
        }
      ]
    }
  ]
}